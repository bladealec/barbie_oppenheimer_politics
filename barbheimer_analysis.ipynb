{
 "cells": [
  {
   "cell_type": "code",
   "execution_count": null,
   "id": "d32a5dc4",
   "metadata": {},
   "outputs": [],
   "source": [
    "import pandas as pd\n",
    "import geopandas as gpd\n",
    "import matplotlib.pyplot as plt"
   ]
  },
  {
   "cell_type": "code",
   "execution_count": null,
   "id": "91ade097",
   "metadata": {},
   "outputs": [],
   "source": [
    "def get_percentage_difference(row):\n",
    "    barbie_percentage = float(row['Barbie: (7/15/23 - 7/22/23)'].rstrip('%')) / 100\n",
    "    oppenheimer_percentage = float(row['Oppenheimer: (7/15/23 - 7/22/23)'].rstrip('%')) / 100\n",
    "    return barbie_percentage - oppenheimer_percentage"
   ]
  },
  {
   "cell_type": "code",
   "execution_count": null,
   "id": "915acc87",
   "metadata": {},
   "outputs": [],
   "source": [
    "barbheimer_df = pd.read_csv('data/geoMap.csv')"
   ]
  },
  {
   "cell_type": "code",
   "execution_count": null,
   "id": "5e01e57c",
   "metadata": {
    "scrolled": true
   },
   "outputs": [],
   "source": [
    "barbheimer_df.head()"
   ]
  },
  {
   "cell_type": "code",
   "execution_count": null,
   "id": "fc5012bb",
   "metadata": {},
   "outputs": [],
   "source": [
    "barbheimer_df['Percentage_Difference'] = barbheimer_df.apply(get_percentage_difference, axis=1)"
   ]
  },
  {
   "cell_type": "code",
   "execution_count": null,
   "id": "68da5d6e",
   "metadata": {},
   "outputs": [],
   "source": [
    "barbheimer_df['Range'] = barbheimer_df['Percentage_Difference'].apply(lambda x: round(x * 40))"
   ]
  },
  {
   "cell_type": "code",
   "execution_count": null,
   "id": "4b0e42c9",
   "metadata": {},
   "outputs": [],
   "source": [
    "barbheimer_df"
   ]
  },
  {
   "cell_type": "code",
   "execution_count": null,
   "id": "2b961838",
   "metadata": {},
   "outputs": [],
   "source": [
    "#retrieving data to plot US map\n",
    "us_states = gpd.read_file('https://raw.githubusercontent.com/PublicaMundi/MappingAPI/master/data/geojson/us-states.json')\n",
    "\n",
    "merged_data = us_states.set_index('name').join(barbheimer_df.set_index('Region'))"
   ]
  },
  {
   "cell_type": "code",
   "execution_count": null,
   "id": "1a4d5841",
   "metadata": {},
   "outputs": [],
   "source": [
    "fig, ax = plt.subplots(1, 1, figsize=(12, 8))\n",
    "ax.axis('off')\n",
    "ax.set_title('Barbie vs. Oppenheimer Interest', fontdict={'fontsize': '16', 'fontweight': '3'})\n",
    "\n",
    "merged_data.plot(column='Range', cmap='coolwarm', linewidth=0.8, ax=ax, edgecolor='0.8', legend=True, vmin=-20, vmax=20)\n",
    "\n",
    "legend_dict = {-20: 'Oppenheimer (-20)', 20: 'Barbie (20)'}\n",
    "legend_elements = [plt.Line2D([0], [0], marker='o', color='w', markerfacecolor='red', markersize=10, label=legend_dict[20]),\n",
    "                   plt.Line2D([0], [0], marker='o', color='w', markerfacecolor='blue', markersize=10, label=legend_dict[-20])]\n",
    "\n",
    "\n",
    "ax.legend(handles=legend_elements, loc='lower right')\n",
    "\n",
    "plt.savefig('US_BarbHeimer_Interest_Map.jpeg', dpi=300, bbox_inches='tight')\n",
    "plt.show()"
   ]
  },
  {
   "cell_type": "code",
   "execution_count": null,
   "id": "c1b454e9",
   "metadata": {},
   "outputs": [],
   "source": []
  }
 ],
 "metadata": {
  "kernelspec": {
   "display_name": "Python 3 (ipykernel)",
   "language": "python",
   "name": "python3"
  },
  "language_info": {
   "codemirror_mode": {
    "name": "ipython",
    "version": 3
   },
   "file_extension": ".py",
   "mimetype": "text/x-python",
   "name": "python",
   "nbconvert_exporter": "python",
   "pygments_lexer": "ipython3",
   "version": "3.10.9"
  }
 },
 "nbformat": 4,
 "nbformat_minor": 5
}
